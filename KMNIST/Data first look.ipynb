{
 "cells": [
  {
   "cell_type": "markdown",
   "metadata": {},
   "source": [
    "## Descripción\n",
    "\n",
    "La idea principal de este proyecto será realizar un modelo de CNN que sea capaz de clasificar 10 de los caracteres pertenecientes a un sistema de escritura japonés llamado Hiragana. Para este proposito se propone utilizar la arquitectura LeNet (https://www.analyticsvidhya.com/blog/2021/03/the-architecture-of-lenet-5/) y el conjunto de training y testing balanceado provinientes de KMNIST. "
   ]
  },
  {
   "cell_type": "code",
   "execution_count": 37,
   "metadata": {},
   "outputs": [],
   "source": [
    "import numpy as np\n",
    "import tensorflow_datasets as tfds\n",
    "from matplotlib import pyplot as plt\n",
    "from keras.utils import to_categorical\n",
    "from models.lenet import lenet_model"
   ]
  },
  {
   "cell_type": "markdown",
   "metadata": {},
   "source": [
    "## Primera impresión de la Data\n",
    "\n",
    "La data es un conjunto de images 28x28 pixeles a grayscale como entrada pertenecientes a 10 categorias como salida, que corresponden a un caracter del sistema de escritura japonés Hiragana.\n",
    "\n",
    "Más detalles en: https://github.com/rois-codh/kmnist\n",
    "\n",
    "Se puede observar una pequeña muestra a continuación"
   ]
  },
  {
   "cell_type": "code",
   "execution_count": 11,
   "metadata": {},
   "outputs": [],
   "source": [
    "builder = tfds.builder('kmnist')\n",
    "builder.download_and_prepare()\n",
    "train, test = builder.as_dataset(split=['train', 'test'], shuffle_files=True)"
   ]
  },
  {
   "cell_type": "code",
   "execution_count": 12,
   "metadata": {},
   "outputs": [
    {
     "data": {
      "image/png": "[encoded data removed]",
      "text/plain": [
       "<Figure size 1500x300 with 10 Axes>"
      ]
     },
     "metadata": {},
     "output_type": "display_data"
    }
   ],
   "source": [
    "# Extract a few examples from the training set\n",
    "num_examples = 10\n",
    "train_data = train.take(num_examples)\n",
    "\n",
    "# Display the images\n",
    "fig, axes = plt.subplots(1, num_examples, figsize=(15, 3))\n",
    "\n",
    "for i, example in enumerate(train_data):\n",
    "    image = example['image'].numpy().squeeze()  # Extract and reshape the image\n",
    "    label = example['label'].numpy()\n",
    "    \n",
    "    # Display the image\n",
    "    axes[i].imshow(image, cmap='gray')\n",
    "    axes[i].set_title(f\"Label: {label}\")\n",
    "    axes[i].axis('off')\n",
    "\n",
    "plt.show()"
   ]
  },
  {
   "cell_type": "markdown",
   "metadata": {},
   "source": [
    "Para efectos practicos, transformaremos la data en un array de numpy para realizar un estudio mas profundo del numero de datos y si se necesita una transformación adicional."
   ]
  },
  {
   "cell_type": "code",
   "execution_count": 20,
   "metadata": {},
   "outputs": [
    {
     "name": "stdout",
     "output_type": "stream",
     "text": [
      "Train images shape: (60000, 28, 28)\n",
      "Train labels shape: (60000,)\n",
      "Test images shape: (10000, 28, 28)\n",
      "Test labels shape: (10000,)\n"
     ]
    }
   ],
   "source": [
    "def to_narray(data):\n",
    "    data_images = []\n",
    "    data_labels = []\n",
    "\n",
    "    for example in data:\n",
    "        image = example['image'].numpy().squeeze()\n",
    "        label = example['label'].numpy()\n",
    "        \n",
    "        data_images.append(image)\n",
    "        data_labels.append(label)\n",
    "\n",
    "    # Convert lists to NumPy arrays\n",
    "    data_images = np.array(data_images)\n",
    "    data_labels = np.array(data_labels)\n",
    "    return data_images, data_labels\n",
    "\n",
    "\n",
    "trainX, trainY = to_narray(train)\n",
    "testX, testY = to_narray(test)\n",
    "\n",
    "# Print the shapes of the NumPy arrays\n",
    "print(\"Train images shape:\", trainX.shape)\n",
    "print(\"Train labels shape:\", trainY.shape)\n",
    "print(\"Test images shape:\", testX.shape)\n",
    "print(\"Test labels shape:\", testY.shape)"
   ]
  },
  {
   "cell_type": "markdown",
   "metadata": {},
   "source": [
    "Los conjuntos de labes (Y) deben ser llevados a un array de al menos dos dimensiones."
   ]
  },
  {
   "cell_type": "code",
   "execution_count": 26,
   "metadata": {},
   "outputs": [],
   "source": [
    "trainY = trainY.reshape(60000,1 )\n",
    "testY = testY.reshape(10000, 1)"
   ]
  },
  {
   "cell_type": "markdown",
   "metadata": {},
   "source": [
    "La data de label viene identificada con un número en el label, es necesario transformarlos a un vector de dimension (10,1) para poder clasificar correctamente."
   ]
  },
  {
   "cell_type": "code",
   "execution_count": 27,
   "metadata": {},
   "outputs": [
    {
     "data": {
      "text/plain": [
       "(60000, 10)"
      ]
     },
     "execution_count": 27,
     "metadata": {},
     "output_type": "execute_result"
    }
   ],
   "source": [
    "trainY, testY = to_categorical(trainY), to_categorical(testY)\n",
    "trainY.shape"
   ]
  },
  {
   "cell_type": "code",
   "execution_count": 28,
   "metadata": {},
   "outputs": [
    {
     "data": {
      "text/plain": [
       "array([[0., 0., 0., ..., 0., 0., 0.],\n",
       "       [0., 0., 0., ..., 0., 0., 1.],\n",
       "       [0., 0., 0., ..., 1., 0., 0.],\n",
       "       ...,\n",
       "       [0., 0., 0., ..., 0., 1., 0.],\n",
       "       [0., 0., 0., ..., 0., 0., 0.],\n",
       "       [0., 0., 0., ..., 1., 0., 0.]], dtype=float32)"
      ]
     },
     "execution_count": 28,
     "metadata": {},
     "output_type": "execute_result"
    }
   ],
   "source": [
    "testY"
   ]
  },
  {
   "cell_type": "markdown",
   "metadata": {},
   "source": [
    "Veamos si la data esta normalizada"
   ]
  },
  {
   "cell_type": "code",
   "execution_count": 31,
   "metadata": {},
   "outputs": [
    {
     "data": {
      "text/plain": [
       "array([[  0,   0,   0,   0,   0,   0,   0,   0,   0,  21, 171, 161,  52,\n",
       "          1,   0,   0,   0,   0,   0,   0,   0,   0,   0,   6,   2,   0,\n",
       "          0,   0],\n",
       "       [  0,   0,   0,   0,   0,   0,  10,  31,  32, 137, 255, 255, 241,\n",
       "        138,  63,   2,   0,   0,   0,   0,   0,   0,   0,   0,   0,   0,\n",
       "          0,   0],\n",
       "       [  0,   0,   0,   0,   0,   0, 119, 230, 240, 249, 255, 255, 255,\n",
       "        245, 207,  14,   0,   0,   0,   0,   0,   0,   0,   0,   0,   0,\n",
       "          0,   0],\n",
       "       [  0,   0,   0,   0,   0,   0,  64, 226, 255, 255, 255, 204,  84,\n",
       "         51,  13,   0,   0,   0,   0,   0,   0,   0,   0,   0,   0,   0,\n",
       "          0,   0],\n",
       "       [  0,   0,   0,   0,   0,   0,   0,  54, 164, 254, 240,  48,   0,\n",
       "          0,   0,   0,   0,   0,   0,   0,   0,   0,   0,   0,   0,   0,\n",
       "          0,   0],\n",
       "       [  0,   0,   0,   0,   0,   0,   0,   0,  39, 251, 197,   2,   0,\n",
       "          0,   0,   0,   0,   0,   0,   0,   0,   0,   0,   0,   0,   0,\n",
       "          0,   0],\n",
       "       [  0,   0,   0,   0,   0,   0,   0,   2, 162, 254, 145,   0,   0,\n",
       "          0,   0,   0,   0,   0,   0,   0,   0,   0,   0,   0,   0,   0,\n",
       "          0,   0],\n",
       "       [  0,   0,   0,   0,   0,   0,   3, 136, 249, 232,  32,   7,   0,\n",
       "          0,   0,   0,   0,   0,   0,   0,   0,   0,   0,   0,   0,   0,\n",
       "          0,   0],\n",
       "       [  0,   0,   0,   0,   0,   0,  37, 249, 255, 235, 159, 191, 127,\n",
       "         45,   0,   0,   0,   0,   0,   0,   0,   0,   0,  19,  19,   0,\n",
       "          0,   0],\n",
       "       [  0,   0,   0,   0,   0,   2, 119, 255, 255, 255, 255, 255, 255,\n",
       "        235,  76,   0,   0,   0,   0,   0,   0,   3, 129, 232, 219,   0,\n",
       "          0,   0],\n",
       "       [  0,   0,   0,   0,  34, 172, 240, 255, 255, 252, 229, 221, 234,\n",
       "        255, 175,   2,   0,   0,   0,   0,  11, 105, 251, 255, 230,   0,\n",
       "          0,   0],\n",
       "       [  0,   0,   0,   6, 163, 255, 255, 254, 219, 109,  38,  40, 133,\n",
       "        255, 243,  24,   0,   0,   1,  71, 205, 246, 240, 180,  58,   0,\n",
       "          0,   0],\n",
       "       [  0,   0,   0,  86, 249, 251, 174,  86,  19,   1,   0,   0,  28,\n",
       "        243, 255, 100,   1,  41, 156, 245, 234, 123,  31,   4,   0,   0,\n",
       "          0,   0],\n",
       "       [  0,   0,   0, 128, 159,  79,   4,   0,   0,   0,   0,   0,   6,\n",
       "        219, 255, 226, 150, 201, 248, 169,  60,   1,   0,   0,   0,   0,\n",
       "          0,   0],\n",
       "       [  0,   0,   0,   0,   0,   0,   0,   0,   0,   0,   0,   0,   1,\n",
       "        160, 255, 255, 253, 215,  83,   5,   0,   0,   0,   0,   0,   0,\n",
       "          0,   0],\n",
       "       [  0,   0,   0,   0,   0,   0,   0,   0,   0,   0,   0,   0,   0,\n",
       "         92, 255, 232,  70,  18,   0,   0,   0,   0,   0,   0,   0,   0,\n",
       "          0,   0],\n",
       "       [  0,   0,   0,   0,   0,   0,   0,   0,   0,   0,   0,   0,   0,\n",
       "         66, 253, 142,   0,   0,   0,   0,   0,   0,   0,   0,   0,   0,\n",
       "          0,   0],\n",
       "       [  0,   0,   0,   0,   0,   0,   0,   0,   0,   0,   0,   0,  11,\n",
       "        142, 254, 153,   0,   0,   0,   0,   0,   0,   0,   0,   0,   0,\n",
       "          0,   0],\n",
       "       [  0,   0,   0,   0,   0,   0,   0,   0,   0,   0,   0,  39, 200,\n",
       "        253, 255, 223,   8,   0,   0,   0,   0,   0,   0,   0,   0,   0,\n",
       "          0,   0],\n",
       "       [  0,   0,   0,   0,   0,   0,   0,   0,   0,   0,   9, 166, 255,\n",
       "        255, 255, 210,  12,   0,   0,   0,   0,   0,   0,   0,   0,   0,\n",
       "          0,   0],\n",
       "       [  0,   0,   0,   0,   0,   0,   0,   0,   0,   0,  89, 201, 246,\n",
       "        255, 255, 131,   0,   0,   0,   0,   0,   0,   0,   0,   0,   0,\n",
       "          0,   0],\n",
       "       [  0,   0,   0,   0,   0,   0,   0,   0,   0,  50, 190,  23,  83,\n",
       "        254, 255, 106,   0,   0,   0,   0,   0,   0,   0,   0,   0,   0,\n",
       "          0,   0],\n",
       "       [  0,   0,   0,   0,   0,   0,   0,   0,   0, 125, 215,  15,  38,\n",
       "        251, 255,  71,   0,   0,   0,   0,   0,   0,   0,   0,   0,   0,\n",
       "          0,   0],\n",
       "       [  0,   0,   0,   0,   0,   0,   0,   0,   1, 154,  84,   1,  28,\n",
       "        238, 255, 124,   0,   0,   7,  23,   9,   0,   0,   0,   0,   0,\n",
       "          0,   0],\n",
       "       [  0,   0,   0,   0,   0,   0,   0,   0,  32, 224,  64,   0,  17,\n",
       "        227, 255, 165, 104, 108, 181, 221, 161,  34,   0,   0,   0,   0,\n",
       "          0,   0],\n",
       "       [  0,   0,   0,   0,   0,   0,   0,   0,  59, 249, 224, 129, 112,\n",
       "        242, 255, 251, 255, 255, 255, 255, 229, 110,   0,   0,   0,   0,\n",
       "          0,   0],\n",
       "       [  0,   0,   0,   0,   0,   0,   0,   0,  20, 167, 253, 255, 255,\n",
       "        255, 255, 255, 255, 245, 231, 230, 136,  51,   0,   0,   0,   0,\n",
       "          0,   0],\n",
       "       [  0,   0,   0,   0,   0,   0,   0,   0,   0,   9, 144, 215, 240,\n",
       "        232, 183, 215, 173,  77,  50,  47,   8,   0,   0,   0,   0,   0,\n",
       "          0,   0]], dtype=uint8)"
      ]
     },
     "execution_count": 31,
     "metadata": {},
     "output_type": "execute_result"
    }
   ],
   "source": [
    "trainX[0]"
   ]
  },
  {
   "cell_type": "markdown",
   "metadata": {},
   "source": [
    "Se debe normalizar"
   ]
  },
  {
   "cell_type": "code",
   "execution_count": 35,
   "metadata": {},
   "outputs": [],
   "source": [
    "def normalize_data(train, test):\n",
    "    # convert from integers to floats\n",
    "    train_norm = train.astype('float32')\n",
    "    test_norm = test.astype('float32')\n",
    "    # normalize to range 0-1\n",
    "    train_norm = train_norm / 255.0\n",
    "    test_norm = test_norm / 255.0\n",
    "    \n",
    "    return train_norm, test_norm\n",
    "    \n",
    "trainX, testX = normalize_data(trainX, testX)"
   ]
  },
  {
   "cell_type": "markdown",
   "metadata": {},
   "source": [
    "Guardamos el conjunto de datos como un archico .npz para futuros estudios"
   ]
  },
  {
   "cell_type": "code",
   "execution_count": 36,
   "metadata": {},
   "outputs": [],
   "source": [
    "np.savez('data/data.npz', trainX=trainX, trainY=trainY, testX=testX, testY=testY)"
   ]
  },
  {
   "cell_type": "markdown",
   "metadata": {},
   "source": [
    "Realicemos un vistazo al modelo a utilizar:"
   ]
  },
  {
   "cell_type": "code",
   "execution_count": 39,
   "metadata": {},
   "outputs": [
    {
     "name": "stdout",
     "output_type": "stream",
     "text": [
      "Model: \"sequential\"\n",
      "_________________________________________________________________\n",
      " Layer (type)                Output Shape              Param #   \n",
      "=================================================================\n",
      " conv2d (Conv2D)             (None, 24, 24, 6)         156       \n",
      "                                                                 \n",
      " average_pooling2d (Average  (None, 12, 12, 6)         0         \n",
      " Pooling2D)                                                      \n",
      "                                                                 \n",
      " activation (Activation)     (None, 12, 12, 6)         0         \n",
      "                                                                 \n",
      " conv2d_1 (Conv2D)           (None, 8, 8, 16)          2416      \n",
      "                                                                 \n",
      " activation_1 (Activation)   (None, 8, 8, 16)          0         \n",
      "                                                                 \n",
      " conv2d_2 (Conv2D)           (None, 4, 4, 120)         48120     \n",
      "                                                                 \n",
      " flatten (Flatten)           (None, 1920)              0         \n",
      "                                                                 \n",
      " dense (Dense)               (None, 84)                161364    \n",
      "                                                                 \n",
      " dense_1 (Dense)             (None, 10)                850       \n",
      "                                                                 \n",
      "=================================================================\n",
      "Total params: 212906 (831.66 KB)\n",
      "Trainable params: 212906 (831.66 KB)\n",
      "Non-trainable params: 0 (0.00 Byte)\n",
      "_________________________________________________________________\n"
     ]
    }
   ],
   "source": [
    "lenet_model.summary()"
   ]
  },
  {
   "cell_type": "code",
   "execution_count": 40,
   "metadata": {},
   "outputs": [
    {
     "name": "stderr",
     "output_type": "stream",
     "text": [
      "c:\\Users\\angel\\OneDrive\\Documentos\\RNN\\Tarea 2 Soluciones\\venv\\Lib\\site-packages\\keras\\src\\engine\\training.py:3103: UserWarning: You are saving your model as an HDF5 file via `model.save()`. This file format is considered legacy. We recommend using instead the native Keras format, e.g. `model.save('my_model.keras')`.\n",
      "  saving_api.save_model(\n"
     ]
    }
   ],
   "source": [
    "lenet_model.save(\"models/lenet_comp.h5\")"
   ]
  },
  {
   "cell_type": "code",
   "execution_count": null,
   "metadata": {},
   "outputs": [],
   "source": []
  }
 ],
 "metadata": {
  "kernelspec": {
   "display_name": "venv",
   "language": "python",
   "name": "python3"
  },
  "language_info": {
   "codemirror_mode": {
    "name": "ipython",
    "version": 3
   },
   "file_extension": ".py",
   "mimetype": "text/x-python",
   "name": "python",
   "nbconvert_exporter": "python",
   "pygments_lexer": "ipython3",
   "version": "3.11.5"
  }
 },
 "nbformat": 4,
 "nbformat_minor": 2
}
